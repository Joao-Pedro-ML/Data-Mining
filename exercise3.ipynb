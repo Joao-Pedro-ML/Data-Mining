{
 "cells": [
  {
   "cell_type": "markdown",
   "metadata": {},
   "source": [
    "### Exercise 3 of Data Mining class\n",
    "\n",
    "#### João Pedro Moreto Lourenção"
   ]
  },
  {
   "cell_type": "markdown",
   "metadata": {},
   "source": [
    "#### Parte A - Classificação - Árvores de Decisão"
   ]
  },
  {
   "cell_type": "markdown",
   "metadata": {},
   "source": [
    "2.A - O dataset Soybean se refere ao diagnóstico de 19 doenças comuns da soja. Ele\n",
    "tem 35 atributos e 683 instâncias. Faça o pré-processamento necessário para\n",
    "upload no Orange."
   ]
  },
  {
   "cell_type": "code",
   "execution_count": 2,
   "metadata": {},
   "outputs": [
    {
     "name": "stdout",
     "output_type": "stream",
     "text": [
      "      date  plant-stand    precip   temp  hail          crop-hist  \\\n",
      "0  october       normal   gt-norm   norm   yes        same-lst-yr   \n",
      "1   august       normal   gt-norm   norm   yes   same-lst-two-yrs   \n",
      "2     july       normal   gt-norm   norm   yes        same-lst-yr   \n",
      "3     july       normal   gt-norm   norm   yes        same-lst-yr   \n",
      "4  october       normal   gt-norm   norm   yes   same-lst-two-yrs   \n",
      "\n",
      "   area-damaged     severity    seed-tmt  germination  ...  sclerotia  \\\n",
      "0     low-areas   pot-severe        none       90-100  ...     absent   \n",
      "1     scattered       severe   fungicide        80-89  ...     absent   \n",
      "2     scattered       severe   fungicide        lt-80  ...     absent   \n",
      "3     scattered       severe        none        80-89  ...     absent   \n",
      "4     scattered   pot-severe        none        lt-80  ...     absent   \n",
      "\n",
      "   fruit-pods  fruit spots   seed  mold-growth  seed-discolor  seed-size  \\\n",
      "0        norm          dna   norm       absent         absent       norm   \n",
      "1        norm          dna   norm       absent         absent       norm   \n",
      "2        norm          dna   norm       absent         absent       norm   \n",
      "3        norm          dna   norm       absent         absent       norm   \n",
      "4        norm          dna   norm       absent         absent       norm   \n",
      "\n",
      "   shriveling  roots                   class  \n",
      "0      absent   norm   diaporthe-stem-canker  \n",
      "1      absent   norm   diaporthe-stem-canker  \n",
      "2      absent   norm   diaporthe-stem-canker  \n",
      "3      absent   norm   diaporthe-stem-canker  \n",
      "4      absent   norm   diaporthe-stem-canker  \n",
      "\n",
      "[5 rows x 36 columns]\n"
     ]
    }
   ],
   "source": [
    "# Removing all lines with '%' from soybean.csv file\n",
    "import pandas as pd\n",
    "\n",
    "def load_and_clean_csv(file_path):\n",
    "    with open(file_path, 'r') as file:\n",
    "        lines = file.readlines()\n",
    "\n",
    "    clean_lines = [line for line in lines if '%' not in line]\n",
    "\n",
    "    with open('soybean_temp.csv', 'w') as file:\n",
    "        file.writelines(clean_lines)\n",
    "\n",
    "    df = pd.read_csv('soybean_temp.csv')\n",
    "\n",
    "    return df\n",
    "\n",
    "df = load_and_clean_csv('soybean.csv')\n",
    "\n",
    "print(df.head())\n",
    "\n",
    "df.to_csv('soybean_cleaned.csv', index=False)\n"
   ]
  },
  {
   "cell_type": "markdown",
   "metadata": {},
   "source": [
    "2.B - Utilizando as ferramentas de visualização de dados, o que é possível\n",
    "preliminarmente inferir preliminarmente sobre os atributos deste dataset?\n",
    "\n",
    "41% das classes apresentam lesão de cancro. 46,8% das classes não se aplicam a lesão de cancro. 9% apresenta valor tan e 5,5% não apresentam valor para lesão de cancro. Existe 9,5% de missing data. A maioria das lesões de cancro são do tipo 'dna'. Além disso, tivemos um bom índice de precipitação durante o período descrito no dataset. "
   ]
  },
  {
   "cell_type": "markdown",
   "metadata": {},
   "source": [
    "2.C - Selecione a coluna “class” como o alvo da classificação, sendo as demais colunas\n",
    "os atributos previsores. Use validação cruzada estratificada de 5-folds para o\n",
    "treinamento de uma Árvore de Decisão com os parâmetros default. Anote o\n",
    "tamanho da árvore obtida (número total de nós, profundidade e número de\n",
    "nós-folhas) e as medidas de qualidade (acurácia, precision, recall e F1 score).\n",
    "Justifique qual a medida de qualidade adequada para este caso.\n",
    "\n",
    "Árvore com 114 nós, 9 níveis de profundidade e 71 folhas.\n",
    "\n",
    "|       AUC         |            CA         |           F1         |        Prec        |         Recall        |           MCC|\n",
    "|-------------------|----------------------|----------------------|-------------------|------------------------|-------------------|\n",
    "|0.9583989414955372 |\t0.8228404099560761 |\t0.792198182003173 |\t0.7807385611921919 |\t0.8228404099560761 |\t0.8068468499867862|\n",
    "\n",
    "Recall é a métrica mais importante, pois deseja-se garantir que a maioria dos casos de doença sejam identificados. Porém, o F1 Score também é crucial, pois leva em conta tanto a precisão quanto o recall, fornecendo uma visão equilibrada do desempenho do modelo."
   ]
  },
  {
   "cell_type": "markdown",
   "metadata": {},
   "source": [
    "2.D - Mostre a matriz de confusão gerada pelo treinamento/teste da árvore de decisão.\n",
    "Identifique nesta árvore quais foram as classes que tiveram 100% e 0% de acerto,\n",
    "respectivamente. Justifique este comportamento (em especial para as classes\n",
    "com 0% de acerto).\n"
   ]
  },
  {
   "cell_type": "code",
   "execution_count": 5,
   "metadata": {},
   "outputs": [
    {
     "data": {
      "image/png": "[encoded data removed]",
      "text/plain": [
       "<IPython.core.display.Image object>"
      ]
     },
     "metadata": {},
     "output_type": "display_data"
    }
   ],
   "source": [
    "from IPython.display import Image, display\n",
    "\n",
    "display(Image(filename='matriz_confusao.png'))"
   ]
  },
  {
   "cell_type": "markdown",
   "metadata": {},
   "source": [
    "As classes que apresentaram 0% de acerto foram: \n",
    "- 2-4-d-injury\n",
    "- cyst-nematode\n",
    "- diaporthe-pod-&-stem-blight\n",
    "- herbicide-injury\n",
    "\n",
    "Essas classes ficaram com 0% de acerto por que possuem grande parte das outras features ausentes, tornando a classificação mais difícil.\n",
    "\n",
    "As classes que apresentaram 100% de acerto foram:\n",
    "- bacterial-pustule\n",
    "- brown-stem-rot\n",
    "- charcoal-rot\n",
    "- downy-mildew\n",
    "- powdery-mildew\n",
    "- purple-seed-stain\n",
    "- rhizoctonia-root-rot"
   ]
  },
  {
   "cell_type": "markdown",
   "metadata": {},
   "source": [
    "***"
   ]
  },
  {
   "cell_type": "markdown",
   "metadata": {},
   "source": [
    "#### Part B - Classification"
   ]
  },
  {
   "cell_type": "markdown",
   "metadata": {},
   "source": [
    "4 - Questions"
   ]
  },
  {
   "cell_type": "markdown",
   "metadata": {},
   "source": [
    "2- Considere ainda uma árvore de decisão para classificar se um indivíduo sobreviveu ou\n",
    "não com base no dataset “titanic.csv”. Qual o resultado médio de acurácia e F1-score\n",
    "utilizando a estratégia de validação cruzada 5-fold? Discuta os resultados."
   ]
  },
  {
   "cell_type": "code",
   "execution_count": 26,
   "metadata": {},
   "outputs": [
    {
     "name": "stdout",
     "output_type": "stream",
     "text": [
      "Acurácia média: 0.7836\n",
      "F1-score médio: 0.6968\n"
     ]
    },
    {
     "name": "stderr",
     "output_type": "stream",
     "text": [
      "C:\\Users\\joaop\\AppData\\Local\\Temp\\ipykernel_2356\\1212962846.py:8: FutureWarning: A value is trying to be set on a copy of a DataFrame or Series through chained assignment using an inplace method.\n",
      "The behavior will change in pandas 3.0. This inplace method will never work because the intermediate object on which we are setting values always behaves as a copy.\n",
      "\n",
      "For example, when doing 'df[col].method(value, inplace=True)', try using 'df.method({col: value}, inplace=True)' or df[col] = df[col].method(value) instead, to perform the operation inplace on the original object.\n",
      "\n",
      "\n",
      "  dfTitanic['Age'] = dfTitanic['Age'].fillna(dfTitanic['Age'].mean(), inplace=True)\n",
      "C:\\Users\\joaop\\AppData\\Local\\Temp\\ipykernel_2356\\1212962846.py:9: FutureWarning: A value is trying to be set on a copy of a DataFrame or Series through chained assignment using an inplace method.\n",
      "The behavior will change in pandas 3.0. This inplace method will never work because the intermediate object on which we are setting values always behaves as a copy.\n",
      "\n",
      "For example, when doing 'df[col].method(value, inplace=True)', try using 'df.method({col: value}, inplace=True)' or df[col] = df[col].method(value) instead, to perform the operation inplace on the original object.\n",
      "\n",
      "\n",
      "  dfTitanic['Fare'] = dfTitanic['Fare'].fillna(dfTitanic['Fare'].mean(), inplace=True)\n"
     ]
    }
   ],
   "source": [
    "from sklearn.tree import DecisionTreeClassifier\n",
    "from sklearn.model_selection import cross_val_score, StratifiedKFold\n",
    "from sklearn.metrics import make_scorer, accuracy_score, f1_score\n",
    "import pandas as pd\n",
    "\n",
    "dfTitanic = pd.read_csv('titanic.csv')\n",
    "\n",
    "dfTitanic['Age'].fillna(dfTitanic['Age'].mean(), inplace=True)\n",
    "dfTitanic['Fare'].fillna(dfTitanic['Fare'].mean(), inplace=True)\n",
    "dfTitanic = pd.get_dummies(dfTitanic, columns=['Sex'], drop_first=True)\n",
    "dfTitanic.rename(columns={'Sex_male': 'Male', 'Siblings/Spouses Aboard': 'SibSp', 'Parents/Children Aboard': 'Parch'}, inplace=True)\n",
    "\n",
    "features = ['Pclass', 'Age', 'SibSp', 'Parch', 'Fare', 'Male']\n",
    "X = dfTitanic[features]\n",
    "y = dfTitanic['Survived']\n",
    "\n",
    "tree = DecisionTreeClassifier()\n",
    "cv = StratifiedKFold(n_splits=5)\n",
    "\n",
    "accuracy_scorer = make_scorer(accuracy_score)\n",
    "f1_scorer = make_scorer(f1_score)\n",
    "\n",
    "accuracy_scores = cross_val_score(tree, X, y, cv=cv, scoring=accuracy_scorer)\n",
    "f1_scores = cross_val_score(tree, X, y, cv=cv, scoring=f1_scorer)\n",
    "\n",
    "accuracy_mean = accuracy_scores.mean()\n",
    "f1_mean = f1_scores.mean()\n",
    "\n",
    "print(f'Acurácia média: {accuracy_mean:.4f}')\n",
    "print(f'F1-score médio: {f1_mean:.4f}')"
   ]
  },
  {
   "cell_type": "markdown",
   "metadata": {},
   "source": [
    "A acurácia média é um pouco maior que o F1 score por se tratar de um problema desbalanceado. Existem muito mais zeros em 'Survived' e isso faz com que uma métrica de avaliação que leva em conta a proporção de previsões corretas pelo total de previsões tenha um valor maior."
   ]
  },
  {
   "cell_type": "markdown",
   "metadata": {},
   "source": [
    "..."
   ]
  },
  {
   "cell_type": "markdown",
   "metadata": {},
   "source": [
    "3- Ainda considerando o dataset “titanic.csv”, construa um modelo utilizando k-NN para\n",
    "prever se uma pessoa sobreviveu ou não. Considere diferentes valores de k vizinhos:\n",
    "k={2,3,4,5,6,7}. Use validação cruzada 5-fold na avaliação. Houve variação significativa\n",
    "nos diferentes modelos testados? Algum deles foi melhor do que a estratégia baseada\n",
    "em árvore de decisão?"
   ]
  },
  {
   "cell_type": "code",
   "execution_count": 20,
   "metadata": {},
   "outputs": [
    {
     "name": "stdout",
     "output_type": "stream",
     "text": [
      "Resultados dos modelos k-NN:\n",
      "k=2 - Acurácia média: 0.6810, F1-score médio: 0.4679\n",
      "k=3 - Acurácia média: 0.7047, F1-score médio: 0.5953\n",
      "k=4 - Acurácia média: 0.6934, F1-score médio: 0.5031\n",
      "k=5 - Acurácia média: 0.6946, F1-score médio: 0.5812\n",
      "k=6 - Acurácia média: 0.6923, F1-score médio: 0.5259\n",
      "k=7 - Acurácia média: 0.6890, F1-score médio: 0.5716\n"
     ]
    }
   ],
   "source": [
    "from sklearn.neighbors import KNeighborsClassifier\n",
    "\n",
    "def evaluate_knn(k_values):\n",
    "    results = {}\n",
    "    for k in k_values:\n",
    "        knn = KNeighborsClassifier(n_neighbors=k)\n",
    "        accuracy_scores = cross_val_score(knn, X, y, cv=cv, scoring=make_scorer(accuracy_score))\n",
    "        f1_scores = cross_val_score(knn, X, y, cv=cv, scoring=make_scorer(f1_score))\n",
    "        results[k] = {\n",
    "            'accuracy_mean': accuracy_scores.mean(),\n",
    "            'f1_mean': f1_scores.mean()\n",
    "        }\n",
    "    return results\n",
    "\n",
    "k_values = [2, 3, 4, 5, 6, 7]\n",
    "knn_results = evaluate_knn(k_values)\n",
    "\n",
    "print(\"Resultados dos modelos k-NN:\")\n",
    "for k, metrics in knn_results.items():\n",
    "    print(f\"k={k} - Acurácia média: {metrics['accuracy_mean']:.4f}, F1-score médio: {metrics['f1_mean']:.4f}\")"
   ]
  },
  {
   "cell_type": "markdown",
   "metadata": {},
   "source": [
    "Entre os modelos de kNN não houve uma grande variação. Porém nenhum deles foi melhor do que a árvore de decisão. Enquanto a árvore de decisão obteve Acurácia média = 0.7791 e F1-score médio = 0.7209, o melhor modelo kNN (com k = 3) obteve Acurácia média: 0.7047 e F1-score médio: 0.5953"
   ]
  },
  {
   "cell_type": "markdown",
   "metadata": {},
   "source": [
    "..."
   ]
  },
  {
   "cell_type": "markdown",
   "metadata": {},
   "source": [
    "4- Avalie o resultado de uma rede neural com, pelo menos, duas camadas escondidas e\n",
    "dez neurônios em cada. Use validação cruzada 5-fold na avaliação. Existe tendência de\n",
    "melhora em relação às tentativas anteriores?"
   ]
  },
  {
   "cell_type": "code",
   "execution_count": 22,
   "metadata": {},
   "outputs": [
    {
     "name": "stdout",
     "output_type": "stream",
     "text": [
      "Acurácia média da Rede Neural: 0.7858\n",
      "F1-score médio da Rede Neural: 0.7225\n"
     ]
    }
   ],
   "source": [
    "from sklearn.neural_network import MLPClassifier\n",
    "\n",
    "neural_net = MLPClassifier(hidden_layer_sizes=(10, 10), max_iter=1000)\n",
    "\n",
    "accuracy_scorer = make_scorer(accuracy_score)\n",
    "f1_scorer = make_scorer(f1_score)\n",
    "\n",
    "accuracy_scores = cross_val_score(neural_net, X, y, cv=cv, scoring=accuracy_scorer)\n",
    "f1_scores = cross_val_score(neural_net, X, y, cv=cv, scoring=f1_scorer)\n",
    "\n",
    "accuracy_mean = accuracy_scores.mean()\n",
    "f1_mean = f1_scores.mean()\n",
    "\n",
    "print(f'Acurácia média da Rede Neural: {accuracy_mean:.4f}')\n",
    "print(f'F1-score médio da Rede Neural: {f1_mean:.4f}')"
   ]
  },
  {
   "cell_type": "markdown",
   "metadata": {},
   "source": [
    "Existe uma tendência de melhora com relação aos modelos anteriores. Utilizando apenas duas camadas escondidas com 10 neurônios cada, obteve-se resultados superiores aos da árvore de decisão."
   ]
  },
  {
   "cell_type": "markdown",
   "metadata": {},
   "source": [
    "---"
   ]
  },
  {
   "cell_type": "markdown",
   "metadata": {},
   "source": [
    "#### Part C - Regression"
   ]
  },
  {
   "cell_type": "markdown",
   "metadata": {},
   "source": [
    "1.a - Faça um modelo de regressão linear simples utilizando a variável 'KmRodado' para prever a 'PrecoVenda'"
   ]
  },
  {
   "cell_type": "code",
   "execution_count": 52,
   "metadata": {},
   "outputs": [
    {
     "data": {
      "image/png": "[encoded data removed]",
      "text/plain": [
       "<Figure size 640x480 with 1 Axes>"
      ]
     },
     "metadata": {},
     "output_type": "display_data"
    }
   ],
   "source": [
    "from sklearn.linear_model import LinearRegression\n",
    "import seaborn as sns\n",
    "\n",
    "dfCarros = pd.read_csv('datasetCarros.csv')\n",
    "\n",
    "X = dfCarros.loc[:,['KmRodado']]\n",
    "y = dfCarros.loc[:,['PrecoVenda']]\n",
    "\n",
    "sns.scatterplot(data = dfCarros, x='KmRodado', y='PrecoVenda')\n",
    "\n",
    "lin_reg = LinearRegression()\n",
    "lin_reg.fit(X, y)\n",
    "\n",
    "y_pred = lin_reg.predict(X)"
   ]
  },
  {
   "cell_type": "markdown",
   "metadata": {},
   "source": [
    "1.b - Calcule o R2 para o modelo criado."
   ]
  },
  {
   "cell_type": "code",
   "execution_count": 53,
   "metadata": {},
   "outputs": [
    {
     "data": {
      "text/plain": [
       "0.0008518862620293666"
      ]
     },
     "execution_count": 53,
     "metadata": {},
     "output_type": "execute_result"
    }
   ],
   "source": [
    "from sklearn.metrics import r2_score\n",
    "\n",
    "r2_simple = r2_score(y, y_pred)\n",
    "r2_simple"
   ]
  },
  {
   "cell_type": "markdown",
   "metadata": {},
   "source": [
    "2.c - Separe o dataset em teste (5%) e treino (95%). Use o método 'train_test_split' do\n",
    "sklearn; configure o parâmetro random_state=10.\n",
    "\n",
    "2.d - Treine um modelo de regressão linear múltipla no dataset de treino utilizando todas\n",
    "as variáveis (exceto 'Nome') para prever a 'PrecoVenda' e exiba os coeficientes do\n",
    "modelo"
   ]
  },
  {
   "cell_type": "code",
   "execution_count": 57,
   "metadata": {},
   "outputs": [
    {
     "data": {
      "text/html": [
       "<div>\n",
       "<style scoped>\n",
       "    .dataframe tbody tr th:only-of-type {\n",
       "        vertical-align: middle;\n",
       "    }\n",
       "\n",
       "    .dataframe tbody tr th {\n",
       "        vertical-align: top;\n",
       "    }\n",
       "\n",
       "    .dataframe thead th {\n",
       "        text-align: right;\n",
       "    }\n",
       "</style>\n",
       "<table border=\"1\" class=\"dataframe\">\n",
       "  <thead>\n",
       "    <tr style=\"text-align: right;\">\n",
       "      <th></th>\n",
       "      <th>Coefficient</th>\n",
       "    </tr>\n",
       "  </thead>\n",
       "  <tbody>\n",
       "    <tr>\n",
       "      <th>Ano</th>\n",
       "      <td>3.523937e-01</td>\n",
       "    </tr>\n",
       "    <tr>\n",
       "      <th>PrecoAtual</th>\n",
       "      <td>-3.642461e-04</td>\n",
       "    </tr>\n",
       "    <tr>\n",
       "      <th>KmRodado</th>\n",
       "      <td>-5.347368e-07</td>\n",
       "    </tr>\n",
       "    <tr>\n",
       "      <th>Owner</th>\n",
       "      <td>-8.476162e-01</td>\n",
       "    </tr>\n",
       "    <tr>\n",
       "      <th>TipoCombustivel_Diesel</th>\n",
       "      <td>5.976747e+00</td>\n",
       "    </tr>\n",
       "    <tr>\n",
       "      <th>TipoCombustivel_Petrol</th>\n",
       "      <td>-5.275410e-01</td>\n",
       "    </tr>\n",
       "    <tr>\n",
       "      <th>Trasmissao_Manual</th>\n",
       "      <td>-4.599046e+00</td>\n",
       "    </tr>\n",
       "  </tbody>\n",
       "</table>\n",
       "</div>"
      ],
      "text/plain": [
       "                         Coefficient\n",
       "Ano                     3.523937e-01\n",
       "PrecoAtual             -3.642461e-04\n",
       "KmRodado               -5.347368e-07\n",
       "Owner                  -8.476162e-01\n",
       "TipoCombustivel_Diesel  5.976747e+00\n",
       "TipoCombustivel_Petrol -5.275410e-01\n",
       "Trasmissao_Manual      -4.599046e+00"
      ]
     },
     "execution_count": 57,
     "metadata": {},
     "output_type": "execute_result"
    }
   ],
   "source": [
    "from sklearn.linear_model import LinearRegression\n",
    "from sklearn.metrics import mean_squared_error\n",
    "from sklearn.model_selection import train_test_split\n",
    "\n",
    "X = dfCarros.drop(columns=['Nome', 'PrecoVenda'])\n",
    "y = dfCarros['PrecoVenda']\n",
    "\n",
    "X = pd.get_dummies(X, drop_first=True)\n",
    "\n",
    "X_train, X_test, y_train, y_test = train_test_split(X, y, test_size=0.05, random_state=10)\n",
    "\n",
    "multiple = LinearRegression()\n",
    "multiple.fit(X_train, y_train)\n",
    "\n",
    "coef = pd.DataFrame(multiple.coef_, X.columns, columns=['Coefficient'])\n",
    "coef"
   ]
  },
  {
   "cell_type": "code",
   "execution_count": 64,
   "metadata": {},
   "outputs": [
    {
     "name": "stdout",
     "output_type": "stream",
     "text": [
      "                            OLS Regression Results                            \n",
      "==============================================================================\n",
      "Dep. Variable:                      y   R-squared:                       0.437\n",
      "Model:                            OLS   Adj. R-squared:                  0.423\n",
      "Method:                 Least Squares   F-statistic:                     30.75\n",
      "Date:                Fri, 05 Jul 2024   Prob (F-statistic):           2.37e-31\n",
      "Time:                        10:01:32   Log-Likelihood:                -786.11\n",
      "No. Observations:                 285   AIC:                             1588.\n",
      "Df Residuals:                     277   BIC:                             1617.\n",
      "Df Model:                           7                                         \n",
      "Covariance Type:            nonrobust                                         \n",
      "==============================================================================\n",
      "                 coef    std err          t      P>|t|      [0.025      0.975]\n",
      "------------------------------------------------------------------------------\n",
      "const       -701.6442    197.100     -3.560      0.000   -1089.649    -313.640\n",
      "x1             0.3524      0.098      3.604      0.000       0.160       0.545\n",
      "x2            -0.0004      0.002     -0.180      0.858      -0.004       0.004\n",
      "x3         -5.347e-07   7.15e-06     -0.075      0.940   -1.46e-05    1.35e-05\n",
      "x4            -0.8476      0.941     -0.900      0.369      -2.701       1.006\n",
      "x5             5.9767      2.792      2.141      0.033       0.481      11.472\n",
      "x6            -0.5275      2.752     -0.192      0.848      -5.946       4.891\n",
      "x7            -4.5990      0.682     -6.744      0.000      -5.941      -3.257\n",
      "==============================================================================\n",
      "Omnibus:                      147.981   Durbin-Watson:                   1.914\n",
      "Prob(Omnibus):                  0.000   Jarque-Bera (JB):             1319.193\n",
      "Skew:                           1.911   Prob(JB):                    3.47e-287\n",
      "Kurtosis:                      12.822   Cond. No.                     4.65e+07\n",
      "==============================================================================\n",
      "\n",
      "Notes:\n",
      "[1] Standard Errors assume that the covariance matrix of the errors is correctly specified.\n",
      "[2] The condition number is large, 4.65e+07. This might indicate that there are\n",
      "strong multicollinearity or other numerical problems.\n"
     ]
    }
   ],
   "source": [
    "import statsmodels.api as sm\n",
    "\n",
    "X_train_np = X_train.astype(float).values\n",
    "y_train_np = y_train.astype(float).values\n",
    "\n",
    "X_train_intercept = sm.add_constant(X_train_np)\n",
    "\n",
    "model_sm = sm.OLS(y_train_np, X_train_intercept).fit()\n",
    "\n",
    "print_model_sm = model_sm.summary()\n",
    "print(print_model_sm)"
   ]
  },
  {
   "cell_type": "markdown",
   "metadata": {},
   "source": [
    "Como esperado, os coeficientes obtidos com os diferentes métodos são os mesmos."
   ]
  },
  {
   "cell_type": "markdown",
   "metadata": {},
   "source": [
    "2.e - Avalie o modelo encontrado utilizando o dataset de teste. Calcule o R2 e MSE."
   ]
  },
  {
   "cell_type": "code",
   "execution_count": 61,
   "metadata": {},
   "outputs": [
    {
     "name": "stdout",
     "output_type": "stream",
     "text": [
      "R2 Score: 0.6298329917862191\n",
      "Mean Squared Error: 8.595268098162837\n"
     ]
    }
   ],
   "source": [
    "y_test_pred = multiple.predict(X_test)\n",
    "r2_test = r2_score(y_test, y_test_pred)\n",
    "mse_test = mean_squared_error(y_test, y_test_pred)\n",
    "\n",
    "print('R2 Score:', r2_test)\n",
    "print('Mean Squared Error:', mse_test)"
   ]
  }
 ],
 "metadata": {
  "kernelspec": {
   "display_name": "Python 3",
   "language": "python",
   "name": "python3"
  },
  "language_info": {
   "codemirror_mode": {
    "name": "ipython",
    "version": 3
   },
   "file_extension": ".py",
   "mimetype": "text/x-python",
   "name": "python",
   "nbconvert_exporter": "python",
   "pygments_lexer": "ipython3",
   "version": "3.12.3"
  }
 },
 "nbformat": 4,
 "nbformat_minor": 2
}
