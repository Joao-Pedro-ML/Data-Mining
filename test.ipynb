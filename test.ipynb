{
 "cells": [
  {
   "cell_type": "code",
   "execution_count": 5,
   "metadata": {},
   "outputs": [],
   "source": [
    "from sklearn import tree\n",
    "import pandas as pd \n",
    "\n",
    "from sklearn.model_selection import cross_val_score\n",
    "from sklearn.model_selection import train_test_split"
   ]
  },
  {
   "cell_type": "code",
   "execution_count": 9,
   "metadata": {},
   "outputs": [],
   "source": [
    "#Procedimentos já explicados em outros notebooks\n",
    "dfIris = pd.read_csv('Iris.csv').set_index('Id')\n",
    "dfIris['Species'] = pd.Categorical(dfIris['Species'])\n",
    "dfIris['code'] = dfIris['Species'].cat.codes\n",
    "\n",
    "dfIris_train, dfIris_test = train_test_split(dfIris, test_size=0.2, random_state=10)\n",
    "\n",
    "X_train = dfIris_train[[\"SepalLengthCm\",\"SepalWidthCm\",\"PetalLengthCm\",\"PetalWidthCm\"]]\n",
    "y_train = dfIris_train['code']\n",
    "X_test = dfIris_test[[\"SepalLengthCm\",\"SepalWidthCm\",\"PetalLengthCm\",\"PetalWidthCm\"]]\n",
    "y_test = dfIris_test['code']\n"
   ]
  },
  {
   "cell_type": "markdown",
   "metadata": {},
   "source": [
    "## Rede neural"
   ]
  },
  {
   "cell_type": "code",
   "execution_count": 10,
   "metadata": {},
   "outputs": [
    {
     "data": {
      "text/plain": [
       "0.9333333333333332"
      ]
     },
     "execution_count": 10,
     "metadata": {},
     "output_type": "execute_result"
    }
   ],
   "source": [
    "from sklearn.neural_network import MLPClassifier\n",
    "\n",
    "#hidden_layer_sizes=(x,y,...) define a arquitetura, x,y,... representam o número de nós em cada camada escondida.\n",
    "neuralNet = MLPClassifier( hidden_layer_sizes=(3,3), random_state=42, max_iter=10000)\n",
    "\n",
    "scores = cross_val_score(neuralNet, X_train, y_train, cv=10)\n",
    "\n",
    "# melhor do que todos os métodos testados\n",
    "scores.mean()"
   ]
  },
  {
   "cell_type": "markdown",
   "metadata": {},
   "source": [
    "### Calculando a F1-score em vez da acurácia"
   ]
  },
  {
   "cell_type": "code",
   "execution_count": 11,
   "metadata": {},
   "outputs": [
    {
     "data": {
      "text/plain": [
       "0.9216931216931217"
      ]
     },
     "execution_count": 11,
     "metadata": {},
     "output_type": "execute_result"
    }
   ],
   "source": [
    "scores = cross_val_score(neuralNet, X_train, y_train, cv=10, scoring='f1_macro')\n",
    "\n",
    "# o valor da acurária e F1-score são parecidos\n",
    "scores.mean()\n",
    "\n",
    "#Isso já era esperado, pois o dataset possui um número balanceado de classes (categorias)"
   ]
  },
  {
   "cell_type": "markdown",
   "metadata": {},
   "source": [
    "## Selecionando os melhores parâmetros - GridSearch - rede neural"
   ]
  },
  {
   "cell_type": "code",
   "execution_count": 12,
   "metadata": {},
   "outputs": [
    {
     "data": {
      "text/plain": [
       "0.9666666666666667"
      ]
     },
     "execution_count": 12,
     "metadata": {},
     "output_type": "execute_result"
    }
   ],
   "source": [
    "from sklearn.model_selection import GridSearchCV\n",
    "import numpy as np\n",
    "\n",
    "nn_parameters = {'solver': ['sgd','adam'], 'max_iter': [10000,15000 ], 'alpha': 10.0 ** -np.arange(1, 5), 'hidden_layer_sizes':[(5,), (10,), (5, 5), (10, 10), (10, 10)], 'random_state':[42]}\n",
    "\n",
    "#Aqui estamos selecionando as melhores combinações com base em uma validação cruzada (k-fold = 5)\n",
    "clf = GridSearchCV(MLPClassifier(), nn_parameters,cv=5)\n",
    "\n",
    "\n",
    "#Repare que a busca de parâmetros está sendo feita em um dataset de treino\n",
    "clf.fit(X_train, y_train)\n",
    "\n",
    "#Testando o resulatdo em um dataset de teste, não utilizado previamente\n",
    "clf.score(X_test, y_test)\n"
   ]
  },
  {
   "cell_type": "code",
   "execution_count": 13,
   "metadata": {},
   "outputs": [
    {
     "data": {
      "text/plain": [
       "{'alpha': 0.1,\n",
       " 'hidden_layer_sizes': (5,),\n",
       " 'max_iter': 10000,\n",
       " 'random_state': 42,\n",
       " 'solver': 'adam'}"
      ]
     },
     "execution_count": 13,
     "metadata": {},
     "output_type": "execute_result"
    }
   ],
   "source": [
    "clf.best_params_"
   ]
  },
  {
   "cell_type": "markdown",
   "metadata": {},
   "source": [
    "## Random Forest                                "
   ]
  },
  {
   "cell_type": "code",
   "execution_count": 14,
   "metadata": {},
   "outputs": [
    {
     "data": {
      "text/plain": [
       "0.9666666666666667"
      ]
     },
     "execution_count": 14,
     "metadata": {},
     "output_type": "execute_result"
    }
   ],
   "source": [
    "from sklearn.ensemble import RandomForestClassifier\n",
    "\n",
    "#Parâmetros para avaliar (não são todos os possíveis)\n",
    "rndForest_parameters = {'criterion': ['gini','entropy'],'n_estimators': [25,50,70], 'random_state':[42], 'class_weight': [None,'balanced', 'balanced_subsample']}\n",
    "\n",
    "#Aqui estamos selecionando as melhores combinações com base em uma validação cruzada (k-fold = 5)\n",
    "rndForest = GridSearchCV( RandomForestClassifier(), rndForest_parameters,cv=5)\n",
    "\n",
    "rndForest.fit(X_train, y_train)\n",
    "\n",
    "rndForest.score(X_test, y_test)\n"
   ]
  },
  {
   "cell_type": "code",
   "execution_count": 15,
   "metadata": {},
   "outputs": [
    {
     "data": {
      "text/plain": [
       "{'class_weight': None,\n",
       " 'criterion': 'gini',\n",
       " 'n_estimators': 25,\n",
       " 'random_state': 42}"
      ]
     },
     "execution_count": 15,
     "metadata": {},
     "output_type": "execute_result"
    }
   ],
   "source": [
    "rndForest.best_params_"
   ]
  },
  {
   "cell_type": "markdown",
   "metadata": {},
   "source": [
    "# Regressão"
   ]
  },
  {
   "cell_type": "code",
   "execution_count": 19,
   "metadata": {},
   "outputs": [],
   "source": [
    "#Dataset business toronto (demonstrado anteriormente)\n",
    "\n",
    "dfBusiToronto = pd.read_csv('businessToronto.csv')"
   ]
  },
  {
   "cell_type": "code",
   "execution_count": 20,
   "metadata": {},
   "outputs": [
    {
     "data": {
      "text/plain": [
       "<AxesSubplot:xlabel='stars', ylabel='review_count'>"
      ]
     },
     "execution_count": 20,
     "metadata": {},
     "output_type": "execute_result"
    },
    {
     "data": {
      "image/png": "[encoded data removed]",
      "text/plain": [
       "<Figure size 432x288 with 1 Axes>"
      ]
     },
     "metadata": {
      "needs_background": "light"
     },
     "output_type": "display_data"
    }
   ],
   "source": [
    "#Previsão de número de reviews\n",
    "\n",
    "X = dfBusiToronto.loc[:,['stars']]\n",
    "y = dfBusiToronto.loc[:,['review_count']]\n",
    "\n",
    "#Plot\n",
    "import seaborn as sns \n",
    "sns.scatterplot(data=dfBusiToronto, x=\"stars\", y=\"review_count\")"
   ]
  },
  {
   "cell_type": "markdown",
   "metadata": {},
   "source": [
    "### Linear regression"
   ]
  },
  {
   "cell_type": "code",
   "execution_count": 21,
   "metadata": {},
   "outputs": [
    {
     "name": "stdout",
     "output_type": "stream",
     "text": [
      "0.005715925154484558\n"
     ]
    }
   ],
   "source": [
    "from sklearn import linear_model\n",
    "\n",
    "linRegr = linear_model.LinearRegression()\n",
    "\n",
    "scoresLinReg = cross_val_score(linRegr, X, y, cv=5, scoring='r2')\n",
    "\n",
    "print(scoresLinReg.mean())\n"
   ]
  },
  {
   "cell_type": "markdown",
   "metadata": {},
   "source": [
    "### Decision Tree Regressor"
   ]
  },
  {
   "cell_type": "code",
   "execution_count": 22,
   "metadata": {},
   "outputs": [
    {
     "name": "stdout",
     "output_type": "stream",
     "text": [
      "0.041667220876411656\n"
     ]
    }
   ],
   "source": [
    "from sklearn.tree import DecisionTreeRegressor\n",
    "\n",
    "\n",
    "treeRegr = DecisionTreeRegressor(random_state=42)\n",
    "\n",
    "scoresTreeReg = cross_val_score(treeRegr, X, y, cv=5, scoring='r2')\n",
    "\n",
    "print(scoresTreeReg.mean())"
   ]
  }
 ],
 "metadata": {
  "kernelspec": {
   "display_name": "dmclass",
   "language": "python",
   "name": "dmclass"
  },
  "language_info": {
   "codemirror_mode": {
    "name": "ipython",
    "version": 3
   },
   "file_extension": ".py",
   "mimetype": "text/x-python",
   "name": "python",
   "nbconvert_exporter": "python",
   "pygments_lexer": "ipython3",
   "version": "3.8.3"
  }
 },
 "nbformat": 4,
 "nbformat_minor": 4
}
