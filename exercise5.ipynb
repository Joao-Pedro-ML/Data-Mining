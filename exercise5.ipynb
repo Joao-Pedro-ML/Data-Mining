{
 "cells": [
  {
   "cell_type": "markdown",
   "metadata": {},
   "source": [
    "### Exercise 5 of Data Mining class\n",
    "\n",
    "#### João Pedro Moreto Lourenção"
   ]
  },
  {
   "cell_type": "code",
   "execution_count": 1,
   "metadata": {},
   "outputs": [
    {
     "data": {
      "text/html": [
       "<div>\n",
       "<style scoped>\n",
       "    .dataframe tbody tr th:only-of-type {\n",
       "        vertical-align: middle;\n",
       "    }\n",
       "\n",
       "    .dataframe tbody tr th {\n",
       "        vertical-align: top;\n",
       "    }\n",
       "\n",
       "    .dataframe thead th {\n",
       "        text-align: right;\n",
       "    }\n",
       "</style>\n",
       "<table border=\"1\" class=\"dataframe\">\n",
       "  <thead>\n",
       "    <tr style=\"text-align: right;\">\n",
       "      <th></th>\n",
       "      <th>v1</th>\n",
       "      <th>v2</th>\n",
       "      <th>v3</th>\n",
       "      <th>v4</th>\n",
       "      <th>v5</th>\n",
       "      <th>v6</th>\n",
       "    </tr>\n",
       "  </thead>\n",
       "  <tbody>\n",
       "    <tr>\n",
       "      <th>0</th>\n",
       "      <td>100.892160</td>\n",
       "      <td>69.813942</td>\n",
       "      <td>28.272501</td>\n",
       "      <td>62.241459</td>\n",
       "      <td>90.513961</td>\n",
       "      <td>58.823648</td>\n",
       "    </tr>\n",
       "    <tr>\n",
       "      <th>1</th>\n",
       "      <td>101.723334</td>\n",
       "      <td>44.991547</td>\n",
       "      <td>14.377189</td>\n",
       "      <td>42.157862</td>\n",
       "      <td>56.535051</td>\n",
       "      <td>25.773174</td>\n",
       "    </tr>\n",
       "    <tr>\n",
       "      <th>2</th>\n",
       "      <td>101.868495</td>\n",
       "      <td>44.311238</td>\n",
       "      <td>24.652878</td>\n",
       "      <td>44.644130</td>\n",
       "      <td>69.297008</td>\n",
       "      <td>11.211523</td>\n",
       "    </tr>\n",
       "    <tr>\n",
       "      <th>3</th>\n",
       "      <td>102.042812</td>\n",
       "      <td>51.500000</td>\n",
       "      <td>-0.261499</td>\n",
       "      <td>58.861028</td>\n",
       "      <td>58.599529</td>\n",
       "      <td>28.059697</td>\n",
       "    </tr>\n",
       "    <tr>\n",
       "      <th>4</th>\n",
       "      <td>102.337524</td>\n",
       "      <td>61.200000</td>\n",
       "      <td>13.469986</td>\n",
       "      <td>56.929322</td>\n",
       "      <td>70.399308</td>\n",
       "      <td>25.538429</td>\n",
       "    </tr>\n",
       "  </tbody>\n",
       "</table>\n",
       "</div>"
      ],
      "text/plain": [
       "           v1         v2         v3         v4         v5         v6\n",
       "0  100.892160  69.813942  28.272501  62.241459  90.513961  58.823648\n",
       "1  101.723334  44.991547  14.377189  42.157862  56.535051  25.773174\n",
       "2  101.868495  44.311238  24.652878  44.644130  69.297008  11.211523\n",
       "3  102.042812  51.500000  -0.261499  58.861028  58.599529  28.059697\n",
       "4  102.337524  61.200000  13.469986  56.929322  70.399308  25.538429"
      ]
     },
     "execution_count": 1,
     "metadata": {},
     "output_type": "execute_result"
    }
   ],
   "source": [
    "import pandas as pd\n",
    "\n",
    "fisio = pd.read_csv('fisioterapia.csv')\n",
    "fisio.head()"
   ]
  }
 ],
 "metadata": {
  "kernelspec": {
   "display_name": "Python 3",
   "language": "python",
   "name": "python3"
  },
  "language_info": {
   "codemirror_mode": {
    "name": "ipython",
    "version": 3
   },
   "file_extension": ".py",
   "mimetype": "text/x-python",
   "name": "python",
   "nbconvert_exporter": "python",
   "pygments_lexer": "ipython3",
   "version": "3.12.3"
  }
 },
 "nbformat": 4,
 "nbformat_minor": 2
}
